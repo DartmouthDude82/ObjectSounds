{
 "cells": [
  {
   "cell_type": "code",
   "execution_count": 42,
   "metadata": {},
   "outputs": [],
   "source": [
    "import numpy as np\n",
    "import pandas as pd\n",
    "import os\n",
    "from mvpa2.suite import *"
   ]
  },
  {
   "cell_type": "code",
   "execution_count": 43,
   "metadata": {},
   "outputs": [],
   "source": [
    "os.chdir(\"/Volumes/Baxter/OBJECTSOUND/sam/scripts\")"
   ]
  },
  {
   "cell_type": "code",
   "execution_count": 45,
   "metadata": {},
   "outputs": [],
   "source": [
    "dset = niml.read('lme_lh_all_RT_labs.niml.dset')"
   ]
  },
  {
   "cell_type": "code",
   "execution_count": 51,
   "metadata": {},
   "outputs": [
    {
     "data": {
      "text/plain": [
       "['labels', 'stats']"
      ]
     },
     "execution_count": 51,
     "metadata": {},
     "output_type": "execute_result"
    }
   ],
   "source": [
    "dset.sa.keys()"
   ]
  },
  {
   "cell_type": "code",
   "execution_count": 52,
   "metadata": {},
   "outputs": [
    {
     "data": {
      "text/plain": [
       "(57, 40962)"
      ]
     },
     "execution_count": 52,
     "metadata": {},
     "output_type": "execute_result"
    }
   ],
   "source": [
    "dset.shape"
   ]
  },
  {
   "cell_type": "code",
   "execution_count": 79,
   "metadata": {},
   "outputs": [],
   "source": [
    "labels = list(dset.sa[\"labels\"])"
   ]
  },
  {
   "cell_type": "code",
   "execution_count": 82,
   "metadata": {},
   "outputs": [
    {
     "name": "stdout",
     "output_type": "stream",
     "text": [
      "{u'size-sound_hard': 27, u'easy-hard': 13, u'easy-hard_sound': 23, u'size Z': 10, u'size-sound_easy': 25, u'difficulty  F': 1, u'easy_sound': 45, u'easy-hard_size Z': 22, u'hard_sound Z': 50, u'sound-size_hard Z': 36, u'sound-size_X_easy-hard Chisq': 54, u'size': 9, u'sound-size_easy Z': 34, u'size-sound_easy Z': 26, u'order  F': 3, u'size_easy Z': 42, u'sound_easy': 37, u'(Intercept)  F': 0, u'hard-easy_size': 29, u'easy-hard Z': 14, u'hard-easy Z': 16, u'size_easy': 41, u'easy': 5, u'size-sound_X_easy-hard Chisq': 53, u'size_hard': 43, u'hard': 7, u'size-sound_hard Z': 28, u'sound-size_X_hard-easy Chisq': 56, u'sound_easy Z': 38, u'easy-hard_sound Z': 24, u'size_hard Z': 44, u'hard-easy_sound': 31, u'size-sound': 17, u'hard_size': 51, u'sound_hard': 39, u'size-sound Z': 18, u'hard-easy': 15, u'modality  F': 2, u'easy_size Z': 48, u'sound': 11, u'sound_hard Z': 40, u'difficulty:modality  F': 4, u'sound-size Z': 20, u'hard-easy_sound Z': 32, u'sound-size': 19, u'easy-hard_size': 21, u'sound Z': 12, u'easy_sound Z': 46, u'hard_size Z': 52, u'sound-size_easy': 33, u'easy_size': 47, u'sound-size_hard': 35, u'hard-easy_size Z': 30, u'hard Z': 8, u'hard_sound': 49, u'easy Z': 6, u'size-sound_X_hard-easy Chisq': 55}\n"
     ]
    }
   ],
   "source": [
    "var_list = {} #create dict with contrast name (key) and location (val)\n",
    "for lab in labels:\n",
    "    l = labels.index(lab)\n",
    "    # Adding a new key value pair#\n",
    "    var_list.update( {lab : l} )\n",
    "print(var_list)"
   ]
  },
  {
   "cell_type": "code",
   "execution_count": 127,
   "metadata": {},
   "outputs": [
    {
     "name": "stdout",
     "output_type": "stream",
     "text": [
      "[47, 51, 45, 49]\n"
     ]
    }
   ],
   "source": [
    "cond_list = [u'easy_size', u'hard_size',u'easy_sound',u'hard_sound'] #append indices for conditions to new list\n",
    "cond_idx = []\n",
    "for c in cond_list:\n",
    "    cond_idx.append(var_list[c])\n",
    "print cond_idx"
   ]
  },
  {
   "cell_type": "code",
   "execution_count": 186,
   "metadata": {
    "collapsed": true
   },
   "outputs": [],
   "source": [
    "coef_arr = np.zeros([4,40962]) #append data for four conditions to new array\n",
    "for i,idx in enumerate(cond_idx):\n",
    "    coef_arr[i,:] = dset.samples[idx]\n",
    "    "
   ]
  },
  {
   "cell_type": "code",
   "execution_count": 187,
   "metadata": {},
   "outputs": [
    {
     "data": {
      "text/plain": [
       "array([[-0.01047661,  0.04704203, -0.02567796, ..., -0.8097803 ,\n",
       "        -0.50390434, -0.56861281],\n",
       "       [ 0.19811289,  0.54134756, -0.01601169, ..., -1.42402375,\n",
       "        -1.20138502, -1.1654222 ],\n",
       "       [ 0.19941141,  0.29615697,  0.13876493, ..., -0.82551414,\n",
       "        -0.95330495, -0.69656813],\n",
       "       [-0.04557439,  0.27834681, -0.04030638, ..., -0.60410571,\n",
       "        -0.53084362, -0.45096594]])"
      ]
     },
     "execution_count": 187,
     "metadata": {},
     "output_type": "execute_result"
    }
   ],
   "source": [
    "coef_arr #order --> easy_size (47), hard_size(51), easy_sound(45), hard_sound(49)"
   ]
  },
  {
   "cell_type": "code",
   "execution_count": null,
   "metadata": {
    "collapsed": true
   },
   "outputs": [],
   "source": [
    "ds = "
   ]
  }
 ],
 "metadata": {
  "kernelspec": {
   "display_name": "Python 2",
   "language": "python",
   "name": "python2"
  },
  "language_info": {
   "codemirror_mode": {
    "name": "ipython",
    "version": 2
   },
   "file_extension": ".py",
   "mimetype": "text/x-python",
   "name": "python",
   "nbconvert_exporter": "python",
   "pygments_lexer": "ipython2",
   "version": "2.7.13"
  }
 },
 "nbformat": 4,
 "nbformat_minor": 2
}
